{
 "cells": [
  {
   "cell_type": "markdown",
   "metadata": {},
   "source": [
    "SEC Filing\n",
    "this will systematically access the different \n",
    "sec submissions so the included files can be\n",
    "accessed (10-K, 8-K, 10-Q, etc)"
   ]
  },
  {
   "cell_type": "code",
   "execution_count": null,
   "metadata": {},
   "outputs": [],
   "source": [
    "import requests\n",
    "from bs4 import BeautifulSoup\n",
    "\n",
    "# the base url\n",
    "base_url = r'https://www.sec.gov/Archives/edgar/data'\n",
    "\n",
    "# the CIK number of the company\n",
    "# will need to parse the CIK lookup to create a \n",
    "# program to solve for unknown CIK's\n",
    "cik_num = '/886982' # Goldman Sachs\n",
    "\n",
    "# create the filing url in json format\n",
    "filing_url = base_url + cik_num + '/index.json'\n",
    "\n",
    "# request the url \n",
    "content = requests.get(filing_url)\n",
    "decoded_content = content.json()\n",
    "decoded_content"
   ]
  },
  {
   "cell_type": "code",
   "execution_count": null,
   "metadata": {},
   "outputs": [],
   "source": []
  }
 ],
 "metadata": {
  "interpreter": {
   "hash": "aee8b7b246df8f9039afb4144a1f6fd8d2ca17a180786b69acc140d282b71a49"
  },
  "kernelspec": {
   "display_name": "Python 3.9.9 64-bit",
   "language": "python",
   "name": "python3"
  },
  "language_info": {
   "name": "python",
   "version": "3.9.9"
  },
  "orig_nbformat": 4
 },
 "nbformat": 4,
 "nbformat_minor": 2
}
